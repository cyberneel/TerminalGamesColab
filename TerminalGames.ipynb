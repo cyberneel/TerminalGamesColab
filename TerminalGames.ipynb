{
  "nbformat": 4,
  "nbformat_minor": 0,
  "metadata": {
    "colab": {
      "provenance": [],
      "authorship_tag": "ABX9TyPBc3v3974if5PyWmMfMhLr",
      "include_colab_link": true
    },
    "kernelspec": {
      "name": "python3",
      "display_name": "Python 3"
    },
    "language_info": {
      "name": "python"
    }
  },
  "cells": [
    {
      "cell_type": "markdown",
      "metadata": {
        "id": "view-in-github",
        "colab_type": "text"
      },
      "source": [
        "<a href=\"https://colab.research.google.com/github/cyberneel/TerminalGamesColab/blob/main/TerminalGames.ipynb\" target=\"_parent\"><img src=\"https://colab.research.google.com/assets/colab-badge.svg\" alt=\"Open In Colab\"/></a>"
      ]
    },
    {
      "cell_type": "markdown",
      "source": [
        "# Tic-Tac-Toe"
      ],
      "metadata": {
        "id": "AaN29ioEIsq-"
      }
    },
    {
      "cell_type": "code",
      "source": [
        "# Game Settings\n",
        "\n",
        "playerOneChar = 'X'\n",
        "playerTwoChar = 'O'"
      ],
      "metadata": {
        "id": "FL539SAfeaq9"
      },
      "execution_count": null,
      "outputs": []
    },
    {
      "cell_type": "code",
      "source": [
        "# Store game data in array\n",
        "\n",
        "gameBoardData = array_2d = [[0 for _ in range(3)] for _ in range(3)]\n",
        "\n",
        "print(gameBoardData)\n"
      ],
      "metadata": {
        "colab": {
          "base_uri": "https://localhost:8080/"
        },
        "id": "Uwn0HOPBJSGW",
        "outputId": "dd127008-ecd2-4ba2-f0c0-cd899bef8eec"
      },
      "execution_count": null,
      "outputs": [
        {
          "output_type": "stream",
          "name": "stdout",
          "text": [
            "[[0, 0, 0], [0, 0, 0], [0, 0, 0]]\n"
          ]
        }
      ]
    },
    {
      "cell_type": "code",
      "execution_count": null,
      "metadata": {
        "id": "D6lAjfa-G5JV"
      },
      "outputs": [],
      "source": [
        "# define display board function\n",
        "\n",
        "def DisplayBoard():\n",
        "  loc = 1\n",
        "  print(\"-------------\")\n",
        "  for row in gameBoardData:\n",
        "    rowData = \"| \"\n",
        "    for char in row:\n",
        "      rowData += (str(char) if (char != 0) else str(loc)) + \" | \"\n",
        "      loc = loc + 1\n",
        "    rowData += \"\\n\"\n",
        "    print(rowData)\n",
        "    print(\"-------------\")\n",
        "\n",
        "DisplayBoard()"
      ]
    },
    {
      "cell_type": "code",
      "source": [
        "# define a turn function for player input\n",
        "\n",
        "def PlayerTurn(playerChar):\n",
        "  placement = input(\"player \" + playerChar + \" select where to place your move: \")\n",
        "  row = 0\n",
        "  if (int(placement) > 6):\n",
        "    row = 2\n",
        "  elif (int(placement) > 3):\n",
        "    row = 1\n",
        "\n",
        "  # Check if alread filled spot\n",
        "  while ((gameBoardData[row][(int(placement) % 3) - 1] == playerOneChar) or (gameBoardData[row][(int(placement) % 3) - 1] == playerTwoChar)):\n",
        "    placement = input(\"Spot alreadt TAKEN! player \" + playerChar + \" select where to place your move: \")\n",
        "    row = 0\n",
        "    if (int(placement) > 6):\n",
        "      row = 2\n",
        "    elif (int(placement) > 3):\n",
        "      row = 1\n",
        "\n",
        "  gameBoardData[row][(int(placement) % 3) - 1] = playerChar\n"
      ],
      "metadata": {
        "id": "6ye4BQgwLVUp"
      },
      "execution_count": null,
      "outputs": []
    },
    {
      "cell_type": "code",
      "source": [
        "# Check for winner function\n",
        "\n",
        "def CheckWinner():\n",
        "  if (gameBoardData[0][0] == gameBoardData[0][1] and gameBoardData[0][1] == gameBoardData[0][2]):\n",
        "    return gameBoardData[0][0]\n",
        "  if (gameBoardData[1][0] == gameBoardData[1][1] and gameBoardData[1][1] == gameBoardData[1][2]):\n",
        "    return gameBoardData[1][0]\n",
        "  if (gameBoardData[2][0] == gameBoardData[2][1] and gameBoardData[2][1] == gameBoardData[2][2]):\n",
        "    return gameBoardData[2][0]\n",
        "  if (gameBoardData[0][0] == gameBoardData[1][0] and gameBoardData[1][0] == gameBoardData[2][0]):\n",
        "    return gameBoardData[0][0]\n",
        "  if (gameBoardData[0][1] == gameBoardData[1][1] and gameBoardData[1][1] == gameBoardData[2][1]):\n",
        "    return gameBoardData[0][1]\n",
        "  if (gameBoardData[0][2] == gameBoardData[1][2] and gameBoardData[1][2] == gameBoardData[2][2]):\n",
        "    return gameBoardData[0][2]\n",
        "  if (gameBoardData[0][0] == gameBoardData[1][1] and gameBoardData[1][1] == gameBoardData[2][2]):\n",
        "    return gameBoardData[0][0]\n",
        "  if (gameBoardData[0][2] == gameBoardData[1][1] and gameBoardData[1][1] == gameBoardData[2][0]):\n",
        "    return gameBoardData[0][2]\n",
        "  return 'n'\n",
        "\n"
      ],
      "metadata": {
        "id": "OGSRlBkG4HPm"
      },
      "execution_count": null,
      "outputs": []
    },
    {
      "cell_type": "markdown",
      "source": [
        "# The main game happens here"
      ],
      "metadata": {
        "id": "MKFPCjZGPUJW"
      }
    },
    {
      "cell_type": "code",
      "source": [
        "# Main game loop\n",
        "\n",
        "def RunTicTacToe():\n",
        "  turn = 1\n",
        "  winner = 'n'\n",
        "  DisplayBoard()\n",
        "  while (winner == 'n'):\n",
        "    # do turns\n",
        "    if (turn % 2 != 0):\n",
        "      PlayerTurn(playerOneChar)\n",
        "    else:\n",
        "      PlayerTurn(playerTwoChar)\n",
        "    turn = turn + 1\n",
        "    DisplayBoard()\n",
        "    # Check if winner\n",
        "    winner = CheckWinner()\n",
        "    # print winner\n",
        "    if (winner != 'n'):\n",
        "      print(\"Player \" + str(winner) + \" won the game!!!!\")\n",
        "      return\n",
        "\n",
        "RunTicTacToe()"
      ],
      "metadata": {
        "id": "ndinR44mekgR"
      },
      "execution_count": null,
      "outputs": []
    },
    {
      "cell_type": "markdown",
      "source": [
        "# Dot Game\n",
        "\n",
        "I am not quite sure of the origins of this game, but my friends and I used to play this game when we were bored lol.\n",
        "\n",
        "## Rules:\n",
        "\n",
        "This is a 2 player game. On you turn you can circle 1 or 2 horizontally/vertically adjacent dots on a 3 X 3 grid. If your turn leaves no uncircled dots, you lose."
      ],
      "metadata": {
        "id": "Ds9DdH1zAbuz"
      }
    },
    {
      "cell_type": "code",
      "source": [
        "# Store game data in array\n",
        "\n",
        "dotGameData = array_2d = [[0 for _ in range(3)] for _ in range(3)]\n",
        "\n",
        "print(dotGameData)\n",
        "\n",
        "# Fied spot Char\n",
        "filledChar = 'X'"
      ],
      "metadata": {
        "colab": {
          "base_uri": "https://localhost:8080/"
        },
        "id": "dnyiZSGkMjUG",
        "outputId": "0864c998-fe2d-4c02-aa39-c09d97566889"
      },
      "execution_count": 4,
      "outputs": [
        {
          "output_type": "stream",
          "name": "stdout",
          "text": [
            "[[0, 0, 0], [0, 0, 0], [0, 0, 0]]\n"
          ]
        }
      ]
    },
    {
      "cell_type": "code",
      "source": [
        "# define display grid function\n",
        "\n",
        "def DisplayGrid():\n",
        "  loc = 1\n",
        "  for row in dotGameData:\n",
        "    rowData = \"\"\n",
        "    for char in row:\n",
        "      rowData += (str(char) if (char == filleChar) else str(loc)) + \"\\t\"\n",
        "      loc = loc + 1\n",
        "    rowData += \"\\n\"\n",
        "    print(rowData)\n",
        "\n",
        "DisplayGrid()"
      ],
      "metadata": {
        "colab": {
          "base_uri": "https://localhost:8080/"
        },
        "id": "tEq6RddIAbWR",
        "outputId": "c2726fff-e8ca-4489-d5a2-2dab8eec7563"
      },
      "execution_count": 3,
      "outputs": [
        {
          "output_type": "stream",
          "name": "stdout",
          "text": [
            "1\t2\t3\t\n",
            "\n",
            "4\t5\t6\t\n",
            "\n",
            "7\t8\t9\t\n",
            "\n"
          ]
        }
      ]
    },
    {
      "cell_type": "code",
      "source": [
        "# Make the turn function\n",
        "def DotGameTurn():\n",
        "  count = input(\"Would you like to circle 1 or 2 dots (enter 1 or 2)? \")\n",
        "  if (int(count) == 1):\n",
        "    position = input(\"Which dot would you like to circle?\")\n",
        "    row = 0\n",
        "    if (int(position) > 3):\n",
        "      row = 1\n",
        "    elif (int(position) > 6):\n",
        "      row = 2\n",
        "\n",
        "    # Bad input check\n",
        "    while (dotGameData[row][((int(position) % 3) - 1)] == filledChar):\n",
        "      position = input(\"Spot already taken!! Which dot would you like to circle?\")\n",
        "      row = 0\n",
        "        if (int(position) > 3):\n",
        "          row = 1\n",
        "        elif (int(position) > 6):\n",
        "          row = 2\n",
        "\n",
        "    dotGameData[row][((int(position) % 3) - 1)] = filledChar\n",
        "    return\n",
        "\n",
        "  elif (int(count) == 2):\n",
        "    p1 = input(\"What is the first dot you would like to circle?\")\n",
        "    p2 = input(\"What is the second dot you would like to circle?\")\n",
        "\n",
        "    row = 0\n",
        "    if (int(p1) > 3):\n",
        "      row = 1\n",
        "    elif (int(p1) > 6):\n",
        "      row = 2\n",
        "    dotGameData[row][((int(p1) % 3) - 1)] = filledChar\n",
        "\n",
        "    row = 0\n",
        "    if (int(p2) > 3):\n",
        "      row = 1\n",
        "    elif (int(p2) > 6):\n",
        "      row = 2\n",
        "    dotGameData[row][((int(p2) % 3) - 1)] = filledChar\n",
        "\n",
        "    return"
      ],
      "metadata": {
        "id": "hZX-YqicN4-r"
      },
      "execution_count": 5,
      "outputs": []
    },
    {
      "cell_type": "code",
      "source": [
        "# Main game loop for the turns\n",
        "\n",
        "def DotGame():\n",
        "  turn = 1\n",
        "  DisplayGrid()\n",
        "  if (turn % 2 == 1):\n",
        "    print(\"Player 1 turn\")\n",
        "  else:\n",
        "    print(\"Player 2 turn\")\n",
        "\n",
        "  DotGameTurn()\n",
        "\n",
        "  # Check for winner here\n",
        "  c = False\n",
        "  for row in dotGameData:\n",
        "    if c:\n",
        "      break\n",
        "    for cir in row:\n",
        "      if (cir != filledChar):\n",
        "        c = True\n",
        "        break\n",
        "\n",
        "  if (c == False):\n",
        "    if (turn % 2 == 1):\n",
        "      print(\"Player 1 Wins!!!\")\n",
        "    else:\n",
        "      print(\"Player 2 Wins!!!\")\n",
        "\n",
        "    return\n",
        "\n",
        "  turn += 1"
      ],
      "metadata": {
        "id": "e3DiJ-orUBws"
      },
      "execution_count": null,
      "outputs": []
    }
  ]
}