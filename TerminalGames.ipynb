{
  "nbformat": 4,
  "nbformat_minor": 0,
  "metadata": {
    "colab": {
      "provenance": [],
      "authorship_tag": "ABX9TyM1VcQRJy4izaDWFsWTdlKJ",
      "include_colab_link": true
    },
    "kernelspec": {
      "name": "python3",
      "display_name": "Python 3"
    },
    "language_info": {
      "name": "python"
    }
  },
  "cells": [
    {
      "cell_type": "markdown",
      "metadata": {
        "id": "view-in-github",
        "colab_type": "text"
      },
      "source": [
        "<a href=\"https://colab.research.google.com/github/cyberneel/TerminalGamesColab/blob/main/TerminalGames.ipynb\" target=\"_parent\"><img src=\"https://colab.research.google.com/assets/colab-badge.svg\" alt=\"Open In Colab\"/></a>"
      ]
    },
    {
      "cell_type": "markdown",
      "source": [
        "# Tic-Tac-Toe"
      ],
      "metadata": {
        "id": "AaN29ioEIsq-"
      }
    },
    {
      "cell_type": "code",
      "source": [
        "# Game Settings\n",
        "\n",
        "playerOneChar = 'X'\n",
        "playerTwoChar = 'O'"
      ],
      "metadata": {
        "id": "FL539SAfeaq9"
      },
      "execution_count": 25,
      "outputs": []
    },
    {
      "cell_type": "code",
      "source": [
        "# Store game data in array\n",
        "\n",
        "gameBoardData = array_2d = [[0 for _ in range(3)] for _ in range(3)]\n",
        "\n",
        "print(gameBoardData)\n"
      ],
      "metadata": {
        "colab": {
          "base_uri": "https://localhost:8080/"
        },
        "id": "Uwn0HOPBJSGW",
        "outputId": "28aaee31-05d9-4cc8-ca6d-9577ab1671ec"
      },
      "execution_count": 26,
      "outputs": [
        {
          "output_type": "stream",
          "name": "stdout",
          "text": [
            "[[0, 0, 0], [0, 0, 0], [0, 0, 0]]\n"
          ]
        }
      ]
    },
    {
      "cell_type": "code",
      "execution_count": 27,
      "metadata": {
        "id": "D6lAjfa-G5JV",
        "colab": {
          "base_uri": "https://localhost:8080/"
        },
        "outputId": "15dc1a34-4856-4cb6-ffa1-3a11c7e657f4"
      },
      "outputs": [
        {
          "output_type": "stream",
          "name": "stdout",
          "text": [
            "1\t2\t3\t\n",
            "\n",
            "4\t5\t6\t\n",
            "\n",
            "7\t8\t9\t\n",
            "\n"
          ]
        }
      ],
      "source": [
        "# define display board function\n",
        "\n",
        "def DisplayBoard():\n",
        "  loc = 1\n",
        "  for row in gameBoardData:\n",
        "    rowData = \"\"\n",
        "    for char in row:\n",
        "      rowData += (str(char) if (char != 0) else str(loc)) + \"\\t\"\n",
        "      loc = loc + 1\n",
        "    rowData += \"\\n\"\n",
        "    print(rowData)\n",
        "\n",
        "DisplayBoard()"
      ]
    },
    {
      "cell_type": "code",
      "source": [
        "# define a turn function for player input\n",
        "\n",
        "def PlayerTurn(playerChar):\n",
        "  placement = input(\"player \" + playerChar + \" select where to place your move: \")\n",
        "  row = 0\n",
        "  if (int(placement) > 6):\n",
        "    row = 2\n",
        "  elif (int(placement) > 3):\n",
        "    row = 1\n",
        "\n",
        "  # Check if alread filled spot\n",
        "  while ((gameBoardData[row][(int(placement) % 3) - 1] == playerOneChar) or (gameBoardData[row][(int(placement) % 3) - 1] == playerTwoChar)):\n",
        "    placement = input(\"Spot alreadt TAKEN! player \" + playerChar + \" select where to place your move: \")\n",
        "    row = 0\n",
        "    if (int(placement) > 6):\n",
        "      row = 2\n",
        "    elif (int(placement) > 3):\n",
        "      row = 1\n",
        "\n",
        "  gameBoardData[row][(int(placement) % 3) - 1] = playerChar\n"
      ],
      "metadata": {
        "id": "6ye4BQgwLVUp"
      },
      "execution_count": 28,
      "outputs": []
    },
    {
      "cell_type": "code",
      "source": [
        "# Check for winner function\n",
        "\n",
        "def CheckWinner():\n",
        "  for i in range(3):\n",
        "    checkingChar = gameBoardData[i][0]\n",
        "    if (checkingChar == gameBoardData[i][1] and checkingChar == gameBoardData[i][2]):\n",
        "      return checkingChar\n",
        "  for i in range(3):\n",
        "    checkingChar = gameBoardData[0][i]\n",
        "    if (checkingChar == gameBoardData[1][i] and checkingChar == gameBoardData[2][i]):\n",
        "      return checkingChar\n",
        "  if (gameBoardData[0][0] == gameBoardData[1][1] and gameBoardData[1][1] == gameBoardData[2][2]):\n",
        "    return gameBoardData[0][0]\n",
        "  if (gameBoardData[1][1] == gameBoardData[0][2] and gameBoardData[1][1] == gameBoardData[2][0]):\n",
        "    return gameBoardData[1][1]\n",
        "  return None\n",
        "\n"
      ],
      "metadata": {
        "id": "OGSRlBkG4HPm"
      },
      "execution_count": 29,
      "outputs": []
    },
    {
      "cell_type": "code",
      "source": [
        "# Main game loop\n",
        "\n",
        "def RunTicTacToe():\n",
        "  turn = 1\n",
        "  winner = None\n",
        "  DisplayBoard()\n",
        "  while (winner == None):\n",
        "    # do turns\n",
        "    if (turn % 2 != 0):\n",
        "      PlayerTurn(playerOneChar)\n",
        "    else:\n",
        "      PlayerTurn(playerTwoChar)\n",
        "    turn = turn + 1\n",
        "    DisplayBoard()\n",
        "    # Check if winner\n",
        "    winner = CheckWinner()\n",
        "    # print winner\n",
        "    if (winner != None):\n",
        "      print(\"Player \" + str(winner) + \" won the game!!!!\")\n",
        "      return\n",
        "\n",
        "RunTicTacToe()"
      ],
      "metadata": {
        "colab": {
          "base_uri": "https://localhost:8080/"
        },
        "id": "ndinR44mekgR",
        "outputId": "1bb20e10-fb8d-4e31-e57c-43c381a8f3ec"
      },
      "execution_count": 31,
      "outputs": [
        {
          "output_type": "stream",
          "name": "stdout",
          "text": [
            "X\t2\t3\t\n",
            "\n",
            "4\t5\t6\t\n",
            "\n",
            "7\t8\t9\t\n",
            "\n",
            "player X select where to place your move: 1\n",
            "Spot alreadt TAKEN! player X select where to place your move: 2\n",
            "X\tX\t3\t\n",
            "\n",
            "4\t5\t6\t\n",
            "\n",
            "7\t8\t9\t\n",
            "\n",
            "Player 0 won the game!!!!\n"
          ]
        }
      ]
    }
  ]
}