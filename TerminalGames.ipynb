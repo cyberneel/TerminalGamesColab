{
  "nbformat": 4,
  "nbformat_minor": 0,
  "metadata": {
    "colab": {
      "provenance": [],
      "authorship_tag": "ABX9TyOD1OIVoXW0f0OtvLh3TNGL",
      "include_colab_link": true
    },
    "kernelspec": {
      "name": "python3",
      "display_name": "Python 3"
    },
    "language_info": {
      "name": "python"
    }
  },
  "cells": [
    {
      "cell_type": "markdown",
      "metadata": {
        "id": "view-in-github",
        "colab_type": "text"
      },
      "source": [
        "<a href=\"https://colab.research.google.com/github/cyberneel/TerminalGamesColab/blob/main/TerminalGames.ipynb\" target=\"_parent\"><img src=\"https://colab.research.google.com/assets/colab-badge.svg\" alt=\"Open In Colab\"/></a>"
      ]
    },
    {
      "cell_type": "markdown",
      "source": [
        "# Tic-Tac-Toe"
      ],
      "metadata": {
        "id": "AaN29ioEIsq-"
      }
    },
    {
      "cell_type": "code",
      "source": [
        "# Game Settings\n",
        "\n",
        "playerOneChar = 'X'\n",
        "playerTwoChar = 'O'"
      ],
      "metadata": {
        "id": "FL539SAfeaq9"
      },
      "execution_count": 1,
      "outputs": []
    },
    {
      "cell_type": "code",
      "source": [
        "# Store game data in array\n",
        "\n",
        "gameBoardData = array_2d = [[0 for _ in range(3)] for _ in range(3)]\n",
        "\n",
        "print(gameBoardData)\n"
      ],
      "metadata": {
        "colab": {
          "base_uri": "https://localhost:8080/"
        },
        "id": "Uwn0HOPBJSGW",
        "outputId": "1004c429-9da5-4206-f084-76e0798a8506"
      },
      "execution_count": 2,
      "outputs": [
        {
          "output_type": "stream",
          "name": "stdout",
          "text": [
            "[[0, 0, 0], [0, 0, 0], [0, 0, 0]]\n"
          ]
        }
      ]
    },
    {
      "cell_type": "code",
      "execution_count": 3,
      "metadata": {
        "id": "D6lAjfa-G5JV",
        "colab": {
          "base_uri": "https://localhost:8080/"
        },
        "outputId": "115a6599-85e9-4c88-8180-2ae14180774b"
      },
      "outputs": [
        {
          "output_type": "stream",
          "name": "stdout",
          "text": [
            "1\t2\t3\n",
            "\n",
            "4\t5\t6\n",
            "\n",
            "7\t8\t9\n",
            "\n"
          ]
        }
      ],
      "source": [
        "# define display board function\n",
        "\n",
        "def DisplayBoard():\n",
        "  print(\"1\\t2\\t3\\n\")\n",
        "  print(\"4\\t5\\t6\\n\")\n",
        "  print(\"7\\t8\\t9\\n\")\n",
        "\n",
        "DisplayBoard()"
      ]
    },
    {
      "cell_type": "code",
      "source": [
        "# define a turn function for player input\n",
        "\n",
        "def PlayerTurn(playerChar):\n",
        "  placement = input(\"player \" + playerChar + \" select where to place your move: \")\n",
        "  row = 0\n",
        "  if (int(placement) > 6):\n",
        "    row = 2\n",
        "  elif (int(placement) > 3):\n",
        "    row = 1\n",
        "\n",
        "  gameBoardData[row][(int(placement) % 3) - 1] = playerChar\n",
        "  print(gameBoardData)\n",
        "\n",
        "\n",
        "PlayerTurn('X')"
      ],
      "metadata": {
        "colab": {
          "base_uri": "https://localhost:8080/"
        },
        "id": "6ye4BQgwLVUp",
        "outputId": "23fdde3e-f679-4cf7-e02c-57382037800d"
      },
      "execution_count": 4,
      "outputs": [
        {
          "output_type": "stream",
          "name": "stdout",
          "text": [
            "player X select where to place your move: 5\n",
            "[[0, 0, 0], [0, 'X', 0], [0, 0, 0]]\n"
          ]
        }
      ]
    },
    {
      "cell_type": "code",
      "source": [
        "# Main game loop\n",
        "\n",
        "def RunTicTacToe():\n",
        "  turn = 1\n",
        "  winner = None\n",
        "  DisplayBoard()\n",
        "  while (winner != None):\n",
        "    # do turns\n",
        "    if (turn % 2 != 0):\n",
        "      PlayerTurn(playerOneChar)\n",
        "    else:\n",
        "      PlayerTurn(playerTwoChar)\n",
        "    turn++\n",
        "    DisplayBoard()\n",
        "    # Check if winner\n",
        "    # print winner"
      ],
      "metadata": {
        "id": "ndinR44mekgR"
      },
      "execution_count": null,
      "outputs": []
    }
  ]
}