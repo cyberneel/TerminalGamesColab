{
  "cells": [
    {
      "cell_type": "markdown",
      "metadata": {
        "id": "view-in-github",
        "colab_type": "text"
      },
      "source": [
        "<a href=\"https://colab.research.google.com/github/cyberneel/TerminalGamesColab/blob/main/TerminalGames.ipynb\" target=\"_parent\"><img src=\"https://colab.research.google.com/assets/colab-badge.svg\" alt=\"Open In Colab\"/></a>"
      ]
    },
    {
      "cell_type": "markdown",
      "metadata": {
        "id": "AaN29ioEIsq-"
      },
      "source": [
        "# Tic-Tac-Toe"
      ]
    },
    {
      "cell_type": "code",
      "execution_count": null,
      "metadata": {
        "id": "FL539SAfeaq9"
      },
      "outputs": [],
      "source": [
        "# Game Settings\n",
        "\n",
        "playerOneChar = 'X'\n",
        "playerTwoChar = 'O'"
      ]
    },
    {
      "cell_type": "code",
      "execution_count": null,
      "metadata": {
        "colab": {
          "base_uri": "https://localhost:8080/"
        },
        "id": "Uwn0HOPBJSGW",
        "outputId": "78ced0f1-b566-4123-b68b-65e37502c5ce"
      },
      "outputs": [
        {
          "name": "stdout",
          "output_type": "stream",
          "text": [
            "[[0, 0, 0], [0, 0, 0], [0, 0, 0]]\n"
          ]
        }
      ],
      "source": [
        "# Store game data in array\n",
        "\n",
        "gameBoardData = array_2d = [[0 for _ in range(3)] for _ in range(3)]\n",
        "\n",
        "print(gameBoardData)\n"
      ]
    },
    {
      "cell_type": "code",
      "execution_count": null,
      "metadata": {
        "colab": {
          "base_uri": "https://localhost:8080/"
        },
        "id": "D6lAjfa-G5JV",
        "outputId": "ba1baf0c-b089-4fd7-8520-1811340a4b4e"
      },
      "outputs": [
        {
          "name": "stdout",
          "output_type": "stream",
          "text": [
            "-------------\n",
            "| 1 | 2 | 3 | \n",
            "\n",
            "-------------\n",
            "| 4 | 5 | 6 | \n",
            "\n",
            "-------------\n",
            "| 7 | 8 | 9 | \n",
            "\n",
            "-------------\n"
          ]
        }
      ],
      "source": [
        "# define display board function\n",
        "\n",
        "def DisplayBoard():\n",
        "  loc = 1\n",
        "  print(\"-------------\")\n",
        "  for row in gameBoardData:\n",
        "    rowData = \"| \"\n",
        "    for char in row:\n",
        "      rowData += (str(char) if (char != 0) else str(loc)) + \" | \"\n",
        "      loc = loc + 1\n",
        "    rowData += \"\\n\"\n",
        "    print(rowData)\n",
        "    print(\"-------------\")\n",
        "\n",
        "DisplayBoard()"
      ]
    },
    {
      "cell_type": "code",
      "execution_count": null,
      "metadata": {
        "id": "6ye4BQgwLVUp"
      },
      "outputs": [],
      "source": [
        "# define a turn function for player input\n",
        "\n",
        "def PlayerTurn(playerChar):\n",
        "  placement = input(\"player \" + playerChar + \" select where to place your move: \")\n",
        "  row = 0\n",
        "  if (int(placement) > 6):\n",
        "    row = 2\n",
        "  elif (int(placement) > 3):\n",
        "    row = 1\n",
        "\n",
        "  # Check if alread filled spot\n",
        "  while ((gameBoardData[row][(int(placement) % 3) - 1] == playerOneChar) or (gameBoardData[row][(int(placement) % 3) - 1] == playerTwoChar)):\n",
        "    placement = input(\"Spot alreadt TAKEN! player \" + playerChar + \" select where to place your move: \")\n",
        "    row = 0\n",
        "    if (int(placement) > 6):\n",
        "      row = 2\n",
        "    elif (int(placement) > 3):\n",
        "      row = 1\n",
        "\n",
        "  gameBoardData[row][(int(placement) % 3) - 1] = playerChar\n"
      ]
    },
    {
      "cell_type": "code",
      "execution_count": null,
      "metadata": {
        "id": "OGSRlBkG4HPm"
      },
      "outputs": [],
      "source": [
        "# Check for winner function\n",
        "\n",
        "def CheckWinner():\n",
        "  if (gameBoardData[0][0] == gameBoardData[0][1] and gameBoardData[0][1] == gameBoardData[0][2]):\n",
        "    return gameBoardData[0][0]\n",
        "  if (gameBoardData[1][0] == gameBoardData[1][1] and gameBoardData[1][1] == gameBoardData[1][2]):\n",
        "    return gameBoardData[1][0]\n",
        "  if (gameBoardData[2][0] == gameBoardData[2][1] and gameBoardData[2][1] == gameBoardData[2][2]):\n",
        "    return gameBoardData[2][0]\n",
        "  if (gameBoardData[0][0] == gameBoardData[1][0] and gameBoardData[1][0] == gameBoardData[2][0]):\n",
        "    return gameBoardData[0][0]\n",
        "  if (gameBoardData[0][1] == gameBoardData[1][1] and gameBoardData[1][1] == gameBoardData[2][1]):\n",
        "    return gameBoardData[0][1]\n",
        "  if (gameBoardData[0][2] == gameBoardData[1][2] and gameBoardData[1][2] == gameBoardData[2][2]):\n",
        "    return gameBoardData[0][2]\n",
        "  if (gameBoardData[0][0] == gameBoardData[1][1] and gameBoardData[1][1] == gameBoardData[2][2]):\n",
        "    return gameBoardData[0][0]\n",
        "  if (gameBoardData[0][2] == gameBoardData[1][1] and gameBoardData[1][1] == gameBoardData[2][0]):\n",
        "    return gameBoardData[0][2]\n",
        "  return 'n'\n",
        "\n"
      ]
    },
    {
      "cell_type": "markdown",
      "metadata": {
        "id": "MKFPCjZGPUJW"
      },
      "source": [
        "# The main game happens here"
      ]
    },
    {
      "cell_type": "code",
      "execution_count": null,
      "metadata": {
        "id": "ndinR44mekgR"
      },
      "outputs": [],
      "source": [
        "# Main game loop\n",
        "\n",
        "def RunTicTacToe():\n",
        "  turn = 1\n",
        "  winner = 'n'\n",
        "  DisplayBoard()\n",
        "  while (winner == 'n'):\n",
        "    # do turns\n",
        "    if (turn % 2 != 0):\n",
        "      PlayerTurn(playerOneChar)\n",
        "    else:\n",
        "      PlayerTurn(playerTwoChar)\n",
        "    turn = turn + 1\n",
        "    DisplayBoard()\n",
        "    # Check if winner\n",
        "    winner = CheckWinner()\n",
        "    # print winner\n",
        "    if (winner != 'n'):\n",
        "      print(\"Player \" + str(winner) + \" won the game!!!!\")\n",
        "      return\n",
        "\n",
        "RunTicTacToe()"
      ]
    },
    {
      "cell_type": "markdown",
      "metadata": {
        "id": "Ds9DdH1zAbuz"
      },
      "source": [
        "# Dot Game\n",
        "\n",
        "I am not quite sure of the origins of this game, but my friends and I used to play this game when we were bored lol.\n",
        "\n",
        "## Rules:\n",
        "\n",
        "This is a 2 player game. On you turn you can circle 1 or 2 horizontally/vertically adjacent dots on a 3 X 3 grid. If your turn leaves no uncircled dots, you lose."
      ]
    },
    {
      "cell_type": "code",
      "execution_count": null,
      "metadata": {
        "colab": {
          "base_uri": "https://localhost:8080/"
        },
        "id": "dnyiZSGkMjUG",
        "outputId": "abfea04c-61e9-4140-ff00-971cf7160900"
      },
      "outputs": [
        {
          "name": "stdout",
          "output_type": "stream",
          "text": [
            "[[0, 0, 0], [0, 0, 0], [0, 0, 0]]\n"
          ]
        }
      ],
      "source": [
        "# Store game data in array\n",
        "\n",
        "dotGameData = array_2d = [[0 for _ in range(3)] for _ in range(3)]\n",
        "\n",
        "print(dotGameData)\n",
        "\n",
        "# Fied spot Char\n",
        "filledChar = 'X'"
      ]
    },
    {
      "cell_type": "code",
      "execution_count": null,
      "metadata": {
        "colab": {
          "base_uri": "https://localhost:8080/"
        },
        "id": "tEq6RddIAbWR",
        "outputId": "e2b1e976-ef71-41e2-9f6f-4bf6c8840a1f"
      },
      "outputs": [
        {
          "name": "stdout",
          "output_type": "stream",
          "text": [
            "1\t2\t3\t\n",
            "\n",
            "4\t5\t6\t\n",
            "\n",
            "7\t8\t9\t\n",
            "\n",
            "[[0, 0, 0], [0, 0, 0], [0, 0, 0]]\n"
          ]
        }
      ],
      "source": [
        "# define display grid function\n",
        "\n",
        "def DisplayGrid():\n",
        "  loc = 1\n",
        "  for row in dotGameData:\n",
        "    rowData = \"\"\n",
        "    for char in row:\n",
        "      rowData += (str(char) if (char == filledChar) else str(loc)) + \"\\t\"\n",
        "      loc = loc + 1\n",
        "    rowData += \"\\n\"\n",
        "    print(rowData)\n",
        "\n",
        "DisplayGrid()\n",
        "print(dotGameData)"
      ]
    },
    {
      "cell_type": "code",
      "execution_count": null,
      "metadata": {
        "id": "hZX-YqicN4-r"
      },
      "outputs": [],
      "source": [
        "# Make the turn function\n",
        "def DotGameTurn():\n",
        "  count = input(\"Would you like to circle 1 or 2 dots (enter 1 or 2)? \")\n",
        "  if (int(count) == 1):\n",
        "    position = input(\"Which dot would you like to circle?\")\n",
        "    row = 0\n",
        "    if (int(position) > 3):\n",
        "      row = 1\n",
        "    if (int(position) > 6):\n",
        "      row = 2\n",
        "\n",
        "    # Bad Input check\n",
        "    while (dotGameData[row][((int(position) % 3) - 1)] == filledChar):\n",
        "      position = input(\"Already filled spot!! Which dot would you like to circle?\")\n",
        "      row = 0\n",
        "      if (int(position) > 3):\n",
        "        row = 1\n",
        "      if (int(position) > 6):\n",
        "        row = 2\n",
        "\n",
        "    dotGameData[row][((int(position) % 3) - 1)] = filledChar\n",
        "    return\n",
        "\n",
        "  elif (int(count) == 2):\n",
        "    p1 = input(\"What is the first dot you would like to circle?\")\n",
        "    p2 = input(\"What is the second dot you would like to circle?\")\n",
        "\n",
        "    row = 0\n",
        "    if (int(p1) > 3):\n",
        "      row = 1\n",
        "    if (int(p1) > 6):\n",
        "      row = 2\n",
        "\n",
        "    # Bad Input check\n",
        "    while (dotGameData[row][((int(p1) % 3) - 1)] == filledChar):\n",
        "      p1 = input(\"Already filled spot!! Which dot would you like to circle?\")\n",
        "      row = 0\n",
        "      if (int(position) > 3):\n",
        "        row = 1\n",
        "      if (int(position) > 6):\n",
        "        row = 2\n",
        "\n",
        "    dotGameData[row][((int(p1) % 3) - 1)] = filledChar\n",
        "\n",
        "    row2 = 0\n",
        "    if (int(p2) > 3):\n",
        "      row2 = 1\n",
        "    if (int(p2) > 6):\n",
        "      row2 = 2\n",
        "\n",
        "    badInput = False\n",
        "\n",
        "\n",
        "    dotGameData[row2][((int(p2) % 3) - 1)] = filledChar\n",
        "\n",
        "    return"
      ]
    },
    {
      "cell_type": "code",
      "execution_count": null,
      "metadata": {
        "colab": {
          "base_uri": "https://localhost:8080/"
        },
        "id": "e3DiJ-orUBws",
        "outputId": "4acc7911-dd1b-4f46-c767-d5f2b31c072f"
      },
      "outputs": [
        {
          "name": "stdout",
          "output_type": "stream",
          "text": [
            "1\t2\t3\t\n",
            "\n",
            "4\t5\t6\t\n",
            "\n",
            "7\t8\t9\t\n",
            "\n",
            "Player 1 turn\n",
            "Would you like to circle 1 or 2 dots (enter 1 or 2)? 2\n",
            "What is the first dot you would like to circle?1\n",
            "What is the second dot you would like to circle?2\n",
            "X\tX\t3\t\n",
            "\n",
            "4\t5\t6\t\n",
            "\n",
            "7\t8\t9\t\n",
            "\n",
            "Player 2 turn\n",
            "Would you like to circle 1 or 2 dots (enter 1 or 2)? 2\n",
            "What is the first dot you would like to circle?3\n",
            "What is the second dot you would like to circle?6\n",
            "X\tX\tX\t\n",
            "\n",
            "4\t5\tX\t\n",
            "\n",
            "7\t8\t9\t\n",
            "\n",
            "Player 1 turn\n",
            "Would you like to circle 1 or 2 dots (enter 1 or 2)? 2\n",
            "What is the first dot you would like to circle?4\n",
            "What is the second dot you would like to circle?5\n",
            "X\tX\tX\t\n",
            "\n",
            "X\tX\tX\t\n",
            "\n",
            "7\t8\t9\t\n",
            "\n",
            "Player 2 turn\n",
            "Would you like to circle 1 or 2 dots (enter 1 or 2)? 2\n",
            "What is the first dot you would like to circle?7\n",
            "What is the second dot you would like to circle?8\n",
            "X\tX\tX\t\n",
            "\n",
            "X\tX\tX\t\n",
            "\n",
            "X\tX\t9\t\n",
            "\n",
            "Player 1 turn\n",
            "Would you like to circle 1 or 2 dots (enter 1 or 2)? 9\n",
            "X\tX\tX\t\n",
            "\n",
            "X\tX\tX\t\n",
            "\n",
            "X\tX\t9\t\n",
            "\n",
            "Player 2 turn\n",
            "Would you like to circle 1 or 2 dots (enter 1 or 2)? 1\n",
            "Which dot would you like to circle?9\n",
            "Player 1 Wins!!!\n"
          ]
        }
      ],
      "source": [
        "# Main game loop for the turns\n",
        "\n",
        "def DotGame():\n",
        "  turn = 1\n",
        "  while (True):\n",
        "    DisplayGrid()\n",
        "    if (turn % 2 == 1):\n",
        "      print(\"Player 1 turn\")\n",
        "    else:\n",
        "      print(\"Player 2 turn\")\n",
        "\n",
        "    DotGameTurn()\n",
        "\n",
        "    # Check for winner here\n",
        "    c = False\n",
        "    for row in dotGameData:\n",
        "      if c:\n",
        "        break\n",
        "      for cir in row:\n",
        "        if (cir != filledChar):\n",
        "          c = True\n",
        "          break\n",
        "\n",
        "    if (c == False):\n",
        "      if (turn % 2 == 1):\n",
        "        print(\"Player 2 Wins!!!\")\n",
        "      else:\n",
        "        print(\"Player 1 Wins!!!\")\n",
        "\n",
        "      return\n",
        "\n",
        "    turn += 1\n",
        "\n",
        "DotGame()"
      ]
    },
    {
      "cell_type": "code",
      "execution_count": null,
      "metadata": {
        "colab": {
          "base_uri": "https://localhost:8080/"
        },
        "id": "FCuhAd2cGLzT",
        "outputId": "33d21e57-fd90-491e-a9ea-b45e72f61e12"
      },
      "outputs": [
        {
          "name": "stdout",
          "output_type": "stream",
          "text": [
            "[['X', 'X', 0], [0, 'X', 0], [0, 0, 0]]\n"
          ]
        }
      ],
      "source": [
        "dotGameData[2][1] = 0\n",
        "print(dotGameData)"
      ]
    },
    {
      "cell_type": "markdown",
      "metadata": {
        "id": "N3oY3tdhesZh"
      },
      "source": [
        "# Minesweaper\n",
        "\n",
        "This section is for the minesweaper game."
      ]
    },
    {
      "cell_type": "code",
      "execution_count": 11,
      "metadata": {
        "colab": {
          "base_uri": "https://localhost:8080/"
        },
        "id": "ih1toY6zhLUL",
        "outputId": "b9409115-2049-441b-fe0d-a131b7ec87b9"
      },
      "outputs": [
        {
          "output_type": "stream",
          "name": "stdout",
          "text": [
            "[[' ', ' ', ' ', ' ', ' ', ' ', ' ', ' ', ' '], [' ', ' ', ' ', ' ', ' ', ' ', ' ', ' ', ' '], [' ', ' ', ' ', ' ', ' ', ' ', ' ', ' ', ' '], [' ', ' ', ' ', ' ', ' ', ' ', ' ', ' ', ' '], [' ', ' ', ' ', ' ', ' ', ' ', ' ', ' ', ' '], [' ', ' ', ' ', ' ', ' ', ' ', ' ', ' ', ' '], [' ', ' ', ' ', ' ', ' ', ' ', ' ', ' ', ' '], [' ', ' ', ' ', ' ', ' ', ' ', ' ', ' ', ' '], [' ', ' ', ' ', ' ', ' ', ' ', ' ', ' ', ' ']]\n"
          ]
        }
      ],
      "source": [
        "# Create game data\n",
        "\n",
        "mineData = array_2d = [[' ' for _ in range(9)] for _ in range(9)]\n",
        "\n",
        "# this one is used to see what boxes have been touched\n",
        "\n",
        "dugData = array_2d = [[False for _ in range(9)] for _ in range(9)]\n",
        "\n",
        "print(mineData)"
      ]
    },
    {
      "cell_type": "code",
      "execution_count": 12,
      "metadata": {
        "id": "5Nlhcvi9nJQ9"
      },
      "outputs": [],
      "source": [
        "# Populate the mine data\n",
        "import random\n",
        "\n",
        "def GenerateMap():\n",
        "\n",
        "  #mineData = array_2d = [[' ' for _ in range(9)] for _ in range(9)]\n",
        "\n",
        "  # this one is used to see what boxes have been touched\n",
        "\n",
        "  #dugData = array_2d = [[False for _ in range(9)] for _ in range(9)]\n",
        "\n",
        "  num_mines = 10\n",
        "  # Randomly place mines\n",
        "  empty_cells = [(i, j) for i in range(9) for j in range(9)]\n",
        "  mine_positions = random.sample(empty_cells, num_mines)\n",
        "  for i, j in mine_positions:\n",
        "      mineData[i][j] = 'X'\n",
        "\n",
        "def CalculateAdjacent():\n",
        "  for i in range(9):\n",
        "    for j in range(9):\n",
        "      adjCnt = 0\n",
        "\n",
        "      # Adjacent checks\n",
        "      k1 = -1\n",
        "      for k in range(3):\n",
        "        k1 = -1 + k\n",
        "        k2 = -1\n",
        "        for kk in range(3):\n",
        "          k2 = -1 + kk\n",
        "          if (i + k1 >= 0 and i + k1 <= 8):\n",
        "            if (j + k2 >= 0 and j + k2 <= 8):\n",
        "              if (mineData[i + k1][j + k2] == 'X'):\n",
        "                adjCnt += 1\n",
        "      if (mineData[i][j] != 'X'):\n",
        "        mineData[i][j] = adjCnt"
      ]
    },
    {
      "cell_type": "code",
      "execution_count": 13,
      "metadata": {
        "colab": {
          "base_uri": "https://localhost:8080/"
        },
        "id": "dVbo7uiSOl0i",
        "outputId": "911963d8-cdd1-41d4-821c-deebc18c7819"
      },
      "outputs": [
        {
          "output_type": "stream",
          "name": "stdout",
          "text": [
            "[[' ', ' ', ' ', ' ', ' ', ' ', ' ', ' ', ' '], [' ', ' ', ' ', ' ', ' ', ' ', ' ', ' ', ' '], [' ', ' ', ' ', ' ', ' ', ' ', ' ', ' ', ' '], [' ', ' ', ' ', ' ', ' ', ' ', ' ', ' ', ' '], [' ', ' ', ' ', ' ', ' ', ' ', ' ', ' ', ' '], [' ', ' ', ' ', ' ', ' ', ' ', ' ', ' ', ' '], [' ', ' ', ' ', ' ', ' ', ' ', ' ', ' ', ' '], [' ', ' ', ' ', ' ', ' ', ' ', ' ', ' ', ' '], [' ', ' ', ' ', ' ', ' ', ' ', ' ', ' ', ' ']]\n"
          ]
        }
      ],
      "source": [
        "print(mineData)"
      ]
    },
    {
      "cell_type": "code",
      "execution_count": 25,
      "metadata": {
        "id": "YEyT90qWn0bW"
      },
      "outputs": [],
      "source": [
        "# display function\n",
        "def DisplayMineField():\n",
        "  # print depending on tile\n",
        "  for row in range(9):\n",
        "    rowDisp = \"\"\n",
        "    for col in range(9):\n",
        "      if (dugData[row][col] == True):\n",
        "        rowDisp += str(mineData[row][col]) + \"\\t\"\n",
        "      else:\n",
        "        rowDisp += \".\\t\"\n",
        "    print(rowDisp)\n",
        "    print()\n",
        "    print()"
      ]
    },
    {
      "cell_type": "code",
      "execution_count": 26,
      "metadata": {
        "colab": {
          "base_uri": "https://localhost:8080/"
        },
        "id": "A92LNDaIrPaC",
        "outputId": "04a5861c-c9ae-489b-9f59-882eed9d4c60"
      },
      "outputs": [
        {
          "output_type": "stream",
          "name": "stdout",
          "text": [
            "X\tX\t2\t2\t.\t.\t.\t.\t.\t\n",
            "\n",
            "\n",
            "X\t3\t2\tX\t.\t.\t.\t.\t.\t\n",
            "\n",
            "\n",
            "2\t2\t2\t1\t2\t.\t.\t.\t.\t\n",
            "\n",
            "\n",
            ".\tX\t.\t.\t.\t.\t.\t.\t.\t\n",
            "\n",
            "\n",
            ".\t.\t.\t.\t.\t.\t.\t.\t.\t\n",
            "\n",
            "\n",
            ".\t.\t.\t.\t.\t.\t.\t.\t.\t\n",
            "\n",
            "\n",
            ".\t.\t.\t.\t.\t.\t.\t.\t.\t\n",
            "\n",
            "\n",
            ".\t.\t.\t.\t.\t.\t.\t.\t.\t\n",
            "\n",
            "\n",
            ".\t.\t.\t.\t.\t.\t.\t.\t.\t\n",
            "\n",
            "\n"
          ]
        }
      ],
      "source": [
        "GenerateMap()\n",
        "CalculateAdjacent()\n",
        "DisplayMineField()"
      ]
    },
    {
      "cell_type": "code",
      "execution_count": 27,
      "metadata": {
        "id": "c13Jihh_rT2e"
      },
      "outputs": [],
      "source": [
        "# turn function for making moves\n",
        "def PlayerTurn():\n",
        "  x = input(\"Enter the x position of the spot (1-9): \")\n",
        "  y = input(\"Enter the y position of the spot (1-9): \")\n",
        "\n",
        "  dugData[int(y)-1][int(x)-1] = True\n",
        "  if (mineData[int(y)-1][int(x)-1] == 'X'):\n",
        "    return True\n",
        "  else:\n",
        "    return False"
      ]
    },
    {
      "cell_type": "code",
      "execution_count": 28,
      "metadata": {
        "id": "Io523g-Pa_IC"
      },
      "outputs": [],
      "source": [
        "# Main Game loop\n",
        "def RunMineSweeper():\n",
        "  # starting hint\n",
        "  for i in range(3):\n",
        "    for j in range(3):\n",
        "      dugData[i][j] = True;\n",
        "      if(mineData[i][j] == 'X'):\n",
        "        dugData[i][j] = False\n",
        "\n",
        "\n",
        "  while (True):\n",
        "    DisplayMineField()\n",
        "    lost = PlayerTurn()\n",
        "\n",
        "    cellsLeft = 0\n",
        "    for row in dugData:\n",
        "      for col in row:\n",
        "        if not col:\n",
        "          cellsLeft += 1\n",
        "\n",
        "    if (cellsLeft == 10):\n",
        "      print(\"You Won!\")\n",
        "      return\n",
        "\n",
        "    if (lost):\n",
        "      print(\"You Lost!\")\n",
        "      return"
      ]
    },
    {
      "cell_type": "code",
      "execution_count": 29,
      "metadata": {
        "colab": {
          "base_uri": "https://localhost:8080/",
          "height": 781
        },
        "id": "DCUPYXF4nxh9",
        "outputId": "e0566ac5-d9d1-4b98-ac20-9a9f312b0342"
      },
      "outputs": [
        {
          "output_type": "stream",
          "name": "stdout",
          "text": [
            ".\t.\t2\t2\t.\t.\t.\t.\t.\t\n",
            "\n",
            "\n",
            ".\t3\t2\tX\t.\t.\t.\t.\t.\t\n",
            "\n",
            "\n",
            "2\t2\t2\t1\t2\t.\t.\t.\t.\t\n",
            "\n",
            "\n",
            ".\tX\t.\t.\t.\t.\t.\t.\t.\t\n",
            "\n",
            "\n",
            ".\t.\t.\t.\t.\t.\t.\t.\t.\t\n",
            "\n",
            "\n",
            ".\t.\t.\t.\t.\t.\t.\t.\t.\t\n",
            "\n",
            "\n",
            ".\t.\t.\t.\t.\t.\t.\t.\t.\t\n",
            "\n",
            "\n",
            ".\t.\t.\t.\t.\t.\t.\t.\t.\t\n",
            "\n",
            "\n",
            ".\t.\t.\t.\t.\t.\t.\t.\t.\t\n",
            "\n",
            "\n"
          ]
        },
        {
          "output_type": "error",
          "ename": "KeyboardInterrupt",
          "evalue": "Interrupted by user",
          "traceback": [
            "\u001b[0;31m---------------------------------------------------------------------------\u001b[0m",
            "\u001b[0;31mKeyboardInterrupt\u001b[0m                         Traceback (most recent call last)",
            "\u001b[0;32m<ipython-input-29-ece9c83d8dee>\u001b[0m in \u001b[0;36m<cell line: 1>\u001b[0;34m()\u001b[0m\n\u001b[0;32m----> 1\u001b[0;31m \u001b[0mRunMineSweeper\u001b[0m\u001b[0;34m(\u001b[0m\u001b[0;34m)\u001b[0m\u001b[0;34m\u001b[0m\u001b[0;34m\u001b[0m\u001b[0m\n\u001b[0m",
            "\u001b[0;32m<ipython-input-28-fa890d58c202>\u001b[0m in \u001b[0;36mRunMineSweeper\u001b[0;34m()\u001b[0m\n\u001b[1;32m     11\u001b[0m   \u001b[0;32mwhile\u001b[0m \u001b[0;34m(\u001b[0m\u001b[0;32mTrue\u001b[0m\u001b[0;34m)\u001b[0m\u001b[0;34m:\u001b[0m\u001b[0;34m\u001b[0m\u001b[0;34m\u001b[0m\u001b[0m\n\u001b[1;32m     12\u001b[0m     \u001b[0mDisplayMineField\u001b[0m\u001b[0;34m(\u001b[0m\u001b[0;34m)\u001b[0m\u001b[0;34m\u001b[0m\u001b[0;34m\u001b[0m\u001b[0m\n\u001b[0;32m---> 13\u001b[0;31m     \u001b[0mlost\u001b[0m \u001b[0;34m=\u001b[0m \u001b[0mPlayerTurn\u001b[0m\u001b[0;34m(\u001b[0m\u001b[0;34m)\u001b[0m\u001b[0;34m\u001b[0m\u001b[0;34m\u001b[0m\u001b[0m\n\u001b[0m\u001b[1;32m     14\u001b[0m \u001b[0;34m\u001b[0m\u001b[0m\n\u001b[1;32m     15\u001b[0m     \u001b[0mcellsLeft\u001b[0m \u001b[0;34m=\u001b[0m \u001b[0;36m0\u001b[0m\u001b[0;34m\u001b[0m\u001b[0;34m\u001b[0m\u001b[0m\n",
            "\u001b[0;32m<ipython-input-27-49606b761afd>\u001b[0m in \u001b[0;36mPlayerTurn\u001b[0;34m()\u001b[0m\n\u001b[1;32m      1\u001b[0m \u001b[0;31m# turn function for making moves\u001b[0m\u001b[0;34m\u001b[0m\u001b[0;34m\u001b[0m\u001b[0m\n\u001b[1;32m      2\u001b[0m \u001b[0;32mdef\u001b[0m \u001b[0mPlayerTurn\u001b[0m\u001b[0;34m(\u001b[0m\u001b[0;34m)\u001b[0m\u001b[0;34m:\u001b[0m\u001b[0;34m\u001b[0m\u001b[0;34m\u001b[0m\u001b[0m\n\u001b[0;32m----> 3\u001b[0;31m   \u001b[0mx\u001b[0m \u001b[0;34m=\u001b[0m \u001b[0minput\u001b[0m\u001b[0;34m(\u001b[0m\u001b[0;34m\"Enter the x position of the spot (1-9): \"\u001b[0m\u001b[0;34m)\u001b[0m\u001b[0;34m\u001b[0m\u001b[0;34m\u001b[0m\u001b[0m\n\u001b[0m\u001b[1;32m      4\u001b[0m   \u001b[0my\u001b[0m \u001b[0;34m=\u001b[0m \u001b[0minput\u001b[0m\u001b[0;34m(\u001b[0m\u001b[0;34m\"Enter the y position of the spot (1-9): \"\u001b[0m\u001b[0;34m)\u001b[0m\u001b[0;34m\u001b[0m\u001b[0;34m\u001b[0m\u001b[0m\n\u001b[1;32m      5\u001b[0m \u001b[0;34m\u001b[0m\u001b[0m\n",
            "\u001b[0;32m/usr/local/lib/python3.10/dist-packages/ipykernel/kernelbase.py\u001b[0m in \u001b[0;36mraw_input\u001b[0;34m(self, prompt)\u001b[0m\n\u001b[1;32m    849\u001b[0m                 \u001b[0;34m\"raw_input was called, but this frontend does not support input requests.\"\u001b[0m\u001b[0;34m\u001b[0m\u001b[0;34m\u001b[0m\u001b[0m\n\u001b[1;32m    850\u001b[0m             )\n\u001b[0;32m--> 851\u001b[0;31m         return self._input_request(str(prompt),\n\u001b[0m\u001b[1;32m    852\u001b[0m             \u001b[0mself\u001b[0m\u001b[0;34m.\u001b[0m\u001b[0m_parent_ident\u001b[0m\u001b[0;34m,\u001b[0m\u001b[0;34m\u001b[0m\u001b[0;34m\u001b[0m\u001b[0m\n\u001b[1;32m    853\u001b[0m             \u001b[0mself\u001b[0m\u001b[0;34m.\u001b[0m\u001b[0m_parent_header\u001b[0m\u001b[0;34m,\u001b[0m\u001b[0;34m\u001b[0m\u001b[0;34m\u001b[0m\u001b[0m\n",
            "\u001b[0;32m/usr/local/lib/python3.10/dist-packages/ipykernel/kernelbase.py\u001b[0m in \u001b[0;36m_input_request\u001b[0;34m(self, prompt, ident, parent, password)\u001b[0m\n\u001b[1;32m    893\u001b[0m             \u001b[0;32mexcept\u001b[0m \u001b[0mKeyboardInterrupt\u001b[0m\u001b[0;34m:\u001b[0m\u001b[0;34m\u001b[0m\u001b[0;34m\u001b[0m\u001b[0m\n\u001b[1;32m    894\u001b[0m                 \u001b[0;31m# re-raise KeyboardInterrupt, to truncate traceback\u001b[0m\u001b[0;34m\u001b[0m\u001b[0;34m\u001b[0m\u001b[0m\n\u001b[0;32m--> 895\u001b[0;31m                 \u001b[0;32mraise\u001b[0m \u001b[0mKeyboardInterrupt\u001b[0m\u001b[0;34m(\u001b[0m\u001b[0;34m\"Interrupted by user\"\u001b[0m\u001b[0;34m)\u001b[0m \u001b[0;32mfrom\u001b[0m \u001b[0;32mNone\u001b[0m\u001b[0;34m\u001b[0m\u001b[0;34m\u001b[0m\u001b[0m\n\u001b[0m\u001b[1;32m    896\u001b[0m             \u001b[0;32mexcept\u001b[0m \u001b[0mException\u001b[0m \u001b[0;32mas\u001b[0m \u001b[0me\u001b[0m\u001b[0;34m:\u001b[0m\u001b[0;34m\u001b[0m\u001b[0;34m\u001b[0m\u001b[0m\n\u001b[1;32m    897\u001b[0m                 \u001b[0mself\u001b[0m\u001b[0;34m.\u001b[0m\u001b[0mlog\u001b[0m\u001b[0;34m.\u001b[0m\u001b[0mwarning\u001b[0m\u001b[0;34m(\u001b[0m\u001b[0;34m\"Invalid Message:\"\u001b[0m\u001b[0;34m,\u001b[0m \u001b[0mexc_info\u001b[0m\u001b[0;34m=\u001b[0m\u001b[0;32mTrue\u001b[0m\u001b[0;34m)\u001b[0m\u001b[0;34m\u001b[0m\u001b[0;34m\u001b[0m\u001b[0m\n",
            "\u001b[0;31mKeyboardInterrupt\u001b[0m: Interrupted by user"
          ]
        }
      ],
      "source": [
        "RunMineSweeper()"
      ]
    },
    {
      "cell_type": "code",
      "execution_count": null,
      "metadata": {
        "id": "48K8k6ghnz4J"
      },
      "outputs": [],
      "source": []
    }
  ],
  "metadata": {
    "colab": {
      "provenance": [],
      "authorship_tag": "ABX9TyNSFadSkAaVBZ5EIcvEjIqD",
      "include_colab_link": true
    },
    "kernelspec": {
      "display_name": "Python 3",
      "name": "python3"
    },
    "language_info": {
      "name": "python"
    }
  },
  "nbformat": 4,
  "nbformat_minor": 0
}