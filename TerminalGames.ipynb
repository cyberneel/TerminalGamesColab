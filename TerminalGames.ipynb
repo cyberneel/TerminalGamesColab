{
  "nbformat": 4,
  "nbformat_minor": 0,
  "metadata": {
    "colab": {
      "provenance": [],
      "authorship_tag": "ABX9TyPq75wpzLmWQ0QYMfKLpPKs",
      "include_colab_link": true
    },
    "kernelspec": {
      "name": "python3",
      "display_name": "Python 3"
    },
    "language_info": {
      "name": "python"
    }
  },
  "cells": [
    {
      "cell_type": "markdown",
      "metadata": {
        "id": "view-in-github",
        "colab_type": "text"
      },
      "source": [
        "<a href=\"https://colab.research.google.com/github/cyberneel/TerminalGamesColab/blob/main/TerminalGames.ipynb\" target=\"_parent\"><img src=\"https://colab.research.google.com/assets/colab-badge.svg\" alt=\"Open In Colab\"/></a>"
      ]
    },
    {
      "cell_type": "markdown",
      "source": [
        "# Tic-Tac-Toe"
      ],
      "metadata": {
        "id": "AaN29ioEIsq-"
      }
    },
    {
      "cell_type": "code",
      "source": [
        "# Game Settings\n",
        "\n",
        "playerOneChar = 'X'\n",
        "playerTwoChar = 'O'"
      ],
      "metadata": {
        "id": "FL539SAfeaq9"
      },
      "execution_count": null,
      "outputs": []
    },
    {
      "cell_type": "code",
      "source": [
        "# Store game data in array\n",
        "\n",
        "gameBoardData = array_2d = [[0 for _ in range(3)] for _ in range(3)]\n",
        "\n",
        "print(gameBoardData)\n"
      ],
      "metadata": {
        "colab": {
          "base_uri": "https://localhost:8080/"
        },
        "id": "Uwn0HOPBJSGW",
        "outputId": "78ced0f1-b566-4123-b68b-65e37502c5ce"
      },
      "execution_count": null,
      "outputs": [
        {
          "output_type": "stream",
          "name": "stdout",
          "text": [
            "[[0, 0, 0], [0, 0, 0], [0, 0, 0]]\n"
          ]
        }
      ]
    },
    {
      "cell_type": "code",
      "execution_count": null,
      "metadata": {
        "id": "D6lAjfa-G5JV",
        "colab": {
          "base_uri": "https://localhost:8080/"
        },
        "outputId": "ba1baf0c-b089-4fd7-8520-1811340a4b4e"
      },
      "outputs": [
        {
          "output_type": "stream",
          "name": "stdout",
          "text": [
            "-------------\n",
            "| 1 | 2 | 3 | \n",
            "\n",
            "-------------\n",
            "| 4 | 5 | 6 | \n",
            "\n",
            "-------------\n",
            "| 7 | 8 | 9 | \n",
            "\n",
            "-------------\n"
          ]
        }
      ],
      "source": [
        "# define display board function\n",
        "\n",
        "def DisplayBoard():\n",
        "  loc = 1\n",
        "  print(\"-------------\")\n",
        "  for row in gameBoardData:\n",
        "    rowData = \"| \"\n",
        "    for char in row:\n",
        "      rowData += (str(char) if (char != 0) else str(loc)) + \" | \"\n",
        "      loc = loc + 1\n",
        "    rowData += \"\\n\"\n",
        "    print(rowData)\n",
        "    print(\"-------------\")\n",
        "\n",
        "DisplayBoard()"
      ]
    },
    {
      "cell_type": "code",
      "source": [
        "# define a turn function for player input\n",
        "\n",
        "def PlayerTurn(playerChar):\n",
        "  placement = input(\"player \" + playerChar + \" select where to place your move: \")\n",
        "  row = 0\n",
        "  if (int(placement) > 6):\n",
        "    row = 2\n",
        "  elif (int(placement) > 3):\n",
        "    row = 1\n",
        "\n",
        "  # Check if alread filled spot\n",
        "  while ((gameBoardData[row][(int(placement) % 3) - 1] == playerOneChar) or (gameBoardData[row][(int(placement) % 3) - 1] == playerTwoChar)):\n",
        "    placement = input(\"Spot alreadt TAKEN! player \" + playerChar + \" select where to place your move: \")\n",
        "    row = 0\n",
        "    if (int(placement) > 6):\n",
        "      row = 2\n",
        "    elif (int(placement) > 3):\n",
        "      row = 1\n",
        "\n",
        "  gameBoardData[row][(int(placement) % 3) - 1] = playerChar\n"
      ],
      "metadata": {
        "id": "6ye4BQgwLVUp"
      },
      "execution_count": null,
      "outputs": []
    },
    {
      "cell_type": "code",
      "source": [
        "# Check for winner function\n",
        "\n",
        "def CheckWinner():\n",
        "  if (gameBoardData[0][0] == gameBoardData[0][1] and gameBoardData[0][1] == gameBoardData[0][2]):\n",
        "    return gameBoardData[0][0]\n",
        "  if (gameBoardData[1][0] == gameBoardData[1][1] and gameBoardData[1][1] == gameBoardData[1][2]):\n",
        "    return gameBoardData[1][0]\n",
        "  if (gameBoardData[2][0] == gameBoardData[2][1] and gameBoardData[2][1] == gameBoardData[2][2]):\n",
        "    return gameBoardData[2][0]\n",
        "  if (gameBoardData[0][0] == gameBoardData[1][0] and gameBoardData[1][0] == gameBoardData[2][0]):\n",
        "    return gameBoardData[0][0]\n",
        "  if (gameBoardData[0][1] == gameBoardData[1][1] and gameBoardData[1][1] == gameBoardData[2][1]):\n",
        "    return gameBoardData[0][1]\n",
        "  if (gameBoardData[0][2] == gameBoardData[1][2] and gameBoardData[1][2] == gameBoardData[2][2]):\n",
        "    return gameBoardData[0][2]\n",
        "  if (gameBoardData[0][0] == gameBoardData[1][1] and gameBoardData[1][1] == gameBoardData[2][2]):\n",
        "    return gameBoardData[0][0]\n",
        "  if (gameBoardData[0][2] == gameBoardData[1][1] and gameBoardData[1][1] == gameBoardData[2][0]):\n",
        "    return gameBoardData[0][2]\n",
        "  return 'n'\n",
        "\n"
      ],
      "metadata": {
        "id": "OGSRlBkG4HPm"
      },
      "execution_count": null,
      "outputs": []
    },
    {
      "cell_type": "markdown",
      "source": [
        "# The main game happens here"
      ],
      "metadata": {
        "id": "MKFPCjZGPUJW"
      }
    },
    {
      "cell_type": "code",
      "source": [
        "# Main game loop\n",
        "\n",
        "def RunTicTacToe():\n",
        "  turn = 1\n",
        "  winner = 'n'\n",
        "  DisplayBoard()\n",
        "  while (winner == 'n'):\n",
        "    # do turns\n",
        "    if (turn % 2 != 0):\n",
        "      PlayerTurn(playerOneChar)\n",
        "    else:\n",
        "      PlayerTurn(playerTwoChar)\n",
        "    turn = turn + 1\n",
        "    DisplayBoard()\n",
        "    # Check if winner\n",
        "    winner = CheckWinner()\n",
        "    # print winner\n",
        "    if (winner != 'n'):\n",
        "      print(\"Player \" + str(winner) + \" won the game!!!!\")\n",
        "      return\n",
        "\n",
        "RunTicTacToe()"
      ],
      "metadata": {
        "id": "ndinR44mekgR"
      },
      "execution_count": null,
      "outputs": []
    },
    {
      "cell_type": "markdown",
      "source": [
        "# Dot Game\n",
        "\n",
        "I am not quite sure of the origins of this game, but my friends and I used to play this game when we were bored lol.\n",
        "\n",
        "## Rules:\n",
        "\n",
        "This is a 2 player game. On you turn you can circle 1 or 2 horizontally/vertically adjacent dots on a 3 X 3 grid. If your turn leaves no uncircled dots, you lose."
      ],
      "metadata": {
        "id": "Ds9DdH1zAbuz"
      }
    },
    {
      "cell_type": "code",
      "source": [
        "# Store game data in array\n",
        "\n",
        "dotGameData = array_2d = [[0 for _ in range(3)] for _ in range(3)]\n",
        "\n",
        "print(dotGameData)\n",
        "\n",
        "# Fied spot Char\n",
        "filledChar = 'X'"
      ],
      "metadata": {
        "colab": {
          "base_uri": "https://localhost:8080/"
        },
        "id": "dnyiZSGkMjUG",
        "outputId": "abfea04c-61e9-4140-ff00-971cf7160900"
      },
      "execution_count": null,
      "outputs": [
        {
          "output_type": "stream",
          "name": "stdout",
          "text": [
            "[[0, 0, 0], [0, 0, 0], [0, 0, 0]]\n"
          ]
        }
      ]
    },
    {
      "cell_type": "code",
      "source": [
        "# define display grid function\n",
        "\n",
        "def DisplayGrid():\n",
        "  loc = 1\n",
        "  for row in dotGameData:\n",
        "    rowData = \"\"\n",
        "    for char in row:\n",
        "      rowData += (str(char) if (char == filledChar) else str(loc)) + \"\\t\"\n",
        "      loc = loc + 1\n",
        "    rowData += \"\\n\"\n",
        "    print(rowData)\n",
        "\n",
        "DisplayGrid()\n",
        "print(dotGameData)"
      ],
      "metadata": {
        "colab": {
          "base_uri": "https://localhost:8080/"
        },
        "id": "tEq6RddIAbWR",
        "outputId": "e2b1e976-ef71-41e2-9f6f-4bf6c8840a1f"
      },
      "execution_count": null,
      "outputs": [
        {
          "output_type": "stream",
          "name": "stdout",
          "text": [
            "1\t2\t3\t\n",
            "\n",
            "4\t5\t6\t\n",
            "\n",
            "7\t8\t9\t\n",
            "\n",
            "[[0, 0, 0], [0, 0, 0], [0, 0, 0]]\n"
          ]
        }
      ]
    },
    {
      "cell_type": "code",
      "source": [
        "# Make the turn function\n",
        "def DotGameTurn():\n",
        "  count = input(\"Would you like to circle 1 or 2 dots (enter 1 or 2)? \")\n",
        "  if (int(count) == 1):\n",
        "    position = input(\"Which dot would you like to circle?\")\n",
        "    row = 0\n",
        "    if (int(position) > 3):\n",
        "      row = 1\n",
        "    if (int(position) > 6):\n",
        "      row = 2\n",
        "\n",
        "    # Bad Input check\n",
        "    while (dotGameData[row][((int(position) % 3) - 1)] == filledChar):\n",
        "      position = input(\"Already filled spot!! Which dot would you like to circle?\")\n",
        "      row = 0\n",
        "      if (int(position) > 3):\n",
        "        row = 1\n",
        "      if (int(position) > 6):\n",
        "        row = 2\n",
        "\n",
        "    dotGameData[row][((int(position) % 3) - 1)] = filledChar\n",
        "    return\n",
        "\n",
        "  elif (int(count) == 2):\n",
        "    p1 = input(\"What is the first dot you would like to circle?\")\n",
        "    p2 = input(\"What is the second dot you would like to circle?\")\n",
        "\n",
        "    row = 0\n",
        "    if (int(p1) > 3):\n",
        "      row = 1\n",
        "    if (int(p1) > 6):\n",
        "      row = 2\n",
        "\n",
        "    # Bad Input check\n",
        "    while (dotGameData[row][((int(p1) % 3) - 1)] == filledChar):\n",
        "      p1 = input(\"Already filled spot!! Which dot would you like to circle?\")\n",
        "      row = 0\n",
        "      if (int(position) > 3):\n",
        "        row = 1\n",
        "      if (int(position) > 6):\n",
        "        row = 2\n",
        "\n",
        "    dotGameData[row][((int(p1) % 3) - 1)] = filledChar\n",
        "\n",
        "    row2 = 0\n",
        "    if (int(p2) > 3):\n",
        "      row2 = 1\n",
        "    if (int(p2) > 6):\n",
        "      row2 = 2\n",
        "\n",
        "    badInput = False\n",
        "\n",
        "\n",
        "    dotGameData[row2][((int(p2) % 3) - 1)] = filledChar\n",
        "\n",
        "    return"
      ],
      "metadata": {
        "id": "hZX-YqicN4-r"
      },
      "execution_count": null,
      "outputs": []
    },
    {
      "cell_type": "code",
      "source": [
        "# Main game loop for the turns\n",
        "\n",
        "def DotGame():\n",
        "  turn = 1\n",
        "  while (True):\n",
        "    DisplayGrid()\n",
        "    if (turn % 2 == 1):\n",
        "      print(\"Player 1 turn\")\n",
        "    else:\n",
        "      print(\"Player 2 turn\")\n",
        "\n",
        "    DotGameTurn()\n",
        "\n",
        "    # Check for winner here\n",
        "    c = False\n",
        "    for row in dotGameData:\n",
        "      if c:\n",
        "        break\n",
        "      for cir in row:\n",
        "        if (cir != filledChar):\n",
        "          c = True\n",
        "          break\n",
        "\n",
        "    if (c == False):\n",
        "      if (turn % 2 == 1):\n",
        "        print(\"Player 2 Wins!!!\")\n",
        "      else:\n",
        "        print(\"Player 1 Wins!!!\")\n",
        "\n",
        "      return\n",
        "\n",
        "    turn += 1\n",
        "\n",
        "DotGame()"
      ],
      "metadata": {
        "colab": {
          "base_uri": "https://localhost:8080/"
        },
        "id": "e3DiJ-orUBws",
        "outputId": "4acc7911-dd1b-4f46-c767-d5f2b31c072f"
      },
      "execution_count": null,
      "outputs": [
        {
          "output_type": "stream",
          "name": "stdout",
          "text": [
            "1\t2\t3\t\n",
            "\n",
            "4\t5\t6\t\n",
            "\n",
            "7\t8\t9\t\n",
            "\n",
            "Player 1 turn\n",
            "Would you like to circle 1 or 2 dots (enter 1 or 2)? 2\n",
            "What is the first dot you would like to circle?1\n",
            "What is the second dot you would like to circle?2\n",
            "X\tX\t3\t\n",
            "\n",
            "4\t5\t6\t\n",
            "\n",
            "7\t8\t9\t\n",
            "\n",
            "Player 2 turn\n",
            "Would you like to circle 1 or 2 dots (enter 1 or 2)? 2\n",
            "What is the first dot you would like to circle?3\n",
            "What is the second dot you would like to circle?6\n",
            "X\tX\tX\t\n",
            "\n",
            "4\t5\tX\t\n",
            "\n",
            "7\t8\t9\t\n",
            "\n",
            "Player 1 turn\n",
            "Would you like to circle 1 or 2 dots (enter 1 or 2)? 2\n",
            "What is the first dot you would like to circle?4\n",
            "What is the second dot you would like to circle?5\n",
            "X\tX\tX\t\n",
            "\n",
            "X\tX\tX\t\n",
            "\n",
            "7\t8\t9\t\n",
            "\n",
            "Player 2 turn\n",
            "Would you like to circle 1 or 2 dots (enter 1 or 2)? 2\n",
            "What is the first dot you would like to circle?7\n",
            "What is the second dot you would like to circle?8\n",
            "X\tX\tX\t\n",
            "\n",
            "X\tX\tX\t\n",
            "\n",
            "X\tX\t9\t\n",
            "\n",
            "Player 1 turn\n",
            "Would you like to circle 1 or 2 dots (enter 1 or 2)? 9\n",
            "X\tX\tX\t\n",
            "\n",
            "X\tX\tX\t\n",
            "\n",
            "X\tX\t9\t\n",
            "\n",
            "Player 2 turn\n",
            "Would you like to circle 1 or 2 dots (enter 1 or 2)? 1\n",
            "Which dot would you like to circle?9\n",
            "Player 1 Wins!!!\n"
          ]
        }
      ]
    },
    {
      "cell_type": "code",
      "source": [
        "dotGameData[2][1] = 0\n",
        "print(dotGameData)"
      ],
      "metadata": {
        "colab": {
          "base_uri": "https://localhost:8080/"
        },
        "id": "FCuhAd2cGLzT",
        "outputId": "33d21e57-fd90-491e-a9ea-b45e72f61e12"
      },
      "execution_count": null,
      "outputs": [
        {
          "output_type": "stream",
          "name": "stdout",
          "text": [
            "[['X', 'X', 0], [0, 'X', 0], [0, 0, 0]]\n"
          ]
        }
      ]
    },
    {
      "cell_type": "markdown",
      "source": [
        "# Minesweaper\n",
        "\n",
        "This section is for the minesweaper game."
      ],
      "metadata": {
        "id": "N3oY3tdhesZh"
      }
    },
    {
      "cell_type": "code",
      "source": [
        "# Install Streamlit\n",
        "! pip install streamlit -q"
      ],
      "metadata": {
        "colab": {
          "base_uri": "https://localhost:8080/"
        },
        "id": "ikQn5GIBey0h",
        "outputId": "c9c6dd00-ff29-4469-c0da-febc270bc8a8"
      },
      "execution_count": 2,
      "outputs": [
        {
          "output_type": "stream",
          "name": "stdout",
          "text": [
            "\u001b[2K     \u001b[90m━━━━━━━━━━━━━━━━━━━━━━━━━━━━━━━━━━━━━━━━\u001b[0m \u001b[32m8.6/8.6 MB\u001b[0m \u001b[31m45.7 MB/s\u001b[0m eta \u001b[36m0:00:00\u001b[0m\n",
            "\u001b[2K     \u001b[90m━━━━━━━━━━━━━━━━━━━━━━━━━━━━━━━━━━━━━━━━\u001b[0m \u001b[32m207.3/207.3 kB\u001b[0m \u001b[31m16.8 MB/s\u001b[0m eta \u001b[36m0:00:00\u001b[0m\n",
            "\u001b[2K     \u001b[90m━━━━━━━━━━━━━━━━━━━━━━━━━━━━━━━━━━━━━━━━\u001b[0m \u001b[32m6.9/6.9 MB\u001b[0m \u001b[31m85.8 MB/s\u001b[0m eta \u001b[36m0:00:00\u001b[0m\n",
            "\u001b[2K     \u001b[90m━━━━━━━━━━━━━━━━━━━━━━━━━━━━━━━━━━━━━━━━\u001b[0m \u001b[32m83.0/83.0 kB\u001b[0m \u001b[31m8.4 MB/s\u001b[0m eta \u001b[36m0:00:00\u001b[0m\n",
            "\u001b[2K     \u001b[90m━━━━━━━━━━━━━━━━━━━━━━━━━━━━━━━━━━━━━━━━\u001b[0m \u001b[32m62.7/62.7 kB\u001b[0m \u001b[31m8.3 MB/s\u001b[0m eta \u001b[36m0:00:00\u001b[0m\n",
            "\u001b[?25h"
          ]
        }
      ]
    },
    {
      "cell_type": "code",
      "source": [
        "#Get the IP\n",
        "!wget -q -O - ipv4.icanhazip.com"
      ],
      "metadata": {
        "colab": {
          "base_uri": "https://localhost:8080/"
        },
        "id": "xDloz0R3fuIL",
        "outputId": "806ddce6-949d-4b0b-e0fe-12c8df7579b5"
      },
      "execution_count": 4,
      "outputs": [
        {
          "output_type": "stream",
          "name": "stdout",
          "text": [
            "34.85.157.217\n"
          ]
        }
      ]
    },
    {
      "cell_type": "code",
      "source": [
        "# Create the app file\n",
        "\n",
        "%%writefile app.py\n",
        "import streamlit as st\n",
        "if st.button(\" \\t \"):\n",
        "    st.write(\"Why hello there\")\n",
        "if st.button(\" \\t \"):\n",
        "    st.write(\"Why hello there\")\n",
        "if st.button(\" \\t \"):\n",
        "    st.write(\"Why hello there\")\n",
        "if st.button(\" \\t \"):\n",
        "    st.write(\"Why hello there\")\n",
        "if st.button(\" \\t \"):\n",
        "    st.write(\"Why hello there\")\n",
        "if st.button(\" \\t \"):\n",
        "    st.write(\"Why hello there\")\n",
        "if st.button(\" \\t \"):\n",
        "    st.write(\"Why hello there\")\n",
        "if st.button(\" \\t \"):\n",
        "    st.write(\"Why hello there\")\n",
        "if st.button(\" \\t \"):\n",
        "    st.write(\"Why hello there\")"
      ],
      "metadata": {
        "colab": {
          "base_uri": "https://localhost:8080/"
        },
        "id": "9vXMDfljf7al",
        "outputId": "3a08b33b-2545-4a03-b22e-4aaf27249063"
      },
      "execution_count": 13,
      "outputs": [
        {
          "output_type": "stream",
          "name": "stdout",
          "text": [
            "Overwriting app.py\n"
          ]
        }
      ]
    },
    {
      "cell_type": "code",
      "source": [
        "# Run the streamlit app\n",
        "!wget -q -O - https://loca.lt/mytunnelpassword # enter this password\n",
        "!streamlit run app.py & npx localtunnel --port 8501\n"
      ],
      "metadata": {
        "colab": {
          "base_uri": "https://localhost:8080/"
        },
        "id": "poxAXmwDhGwK",
        "outputId": "bd4efb4e-1e7d-40eb-da58-ddd2013e516a"
      },
      "execution_count": null,
      "outputs": [
        {
          "output_type": "stream",
          "name": "stdout",
          "text": [
            "34.85.157.217\n",
            "Collecting usage statistics. To deactivate, set browser.gatherUsageStats to false.\n",
            "\u001b[0m\n",
            "\u001b[0m\n",
            "\u001b[34m\u001b[1m  You can now view your Streamlit app in your browser.\u001b[0m\n",
            "\u001b[0m\n",
            "\u001b[34m  Local URL: \u001b[0m\u001b[1mhttp://localhost:8501\u001b[0m\n",
            "\u001b[34m  Network URL: \u001b[0m\u001b[1mhttp://172.28.0.12:8501\u001b[0m\n",
            "\u001b[34m  External URL: \u001b[0m\u001b[1mhttp://34.85.157.217:8501\u001b[0m\n",
            "\u001b[0m\n",
            "\u001b[K\u001b[?25hnpx: installed 22 in 2.57s\n",
            "your url is: https://blue-breads-judge.loca.lt\n",
            "2024-07-07 05:06:21.810 Uncaught app exception\n",
            "Traceback (most recent call last):\n",
            "  File \"/usr/local/lib/python3.10/dist-packages/streamlit/runtime/scriptrunner/script_runner.py\", line 589, in _run_script\n",
            "    exec(code, module.__dict__)\n",
            "  File \"/content/app.py\", line 4, in <module>\n",
            "    if st.button(\" \\t \"):\n",
            "  File \"/usr/local/lib/python3.10/dist-packages/streamlit/runtime/metrics_util.py\", line 408, in wrapped_func\n",
            "    result = non_optional_func(*args, **kwargs)\n",
            "  File \"/usr/local/lib/python3.10/dist-packages/streamlit/elements/widgets/button.py\", line 179, in button\n",
            "    return self.dg._button(\n",
            "  File \"/usr/local/lib/python3.10/dist-packages/streamlit/elements/widgets/button.py\", line 815, in _button\n",
            "    button_state = register_widget(\n",
            "  File \"/usr/local/lib/python3.10/dist-packages/streamlit/runtime/state/widgets.py\", line 167, in register_widget\n",
            "    return register_widget_from_metadata(metadata, ctx, widget_func_name, element_type)\n",
            "  File \"/usr/local/lib/python3.10/dist-packages/streamlit/runtime/state/widgets.py\", line 212, in register_widget_from_metadata\n",
            "    raise DuplicateWidgetID(\n",
            "streamlit.errors.DuplicateWidgetID: There are multiple identical `st.button` widgets with the\n",
            "same generated key.\n",
            "\n",
            "When a widget is created, it's assigned an internal key based on\n",
            "its structure. Multiple widgets with an identical structure will\n",
            "result in the same internal key, which causes this error.\n",
            "\n",
            "To fix this error, please pass a unique `key` argument to\n",
            "`st.button`.\n"
          ]
        }
      ]
    },
    {
      "cell_type": "code",
      "source": [],
      "metadata": {
        "id": "ih1toY6zhLUL"
      },
      "execution_count": null,
      "outputs": []
    }
  ]
}