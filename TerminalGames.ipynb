{
  "nbformat": 4,
  "nbformat_minor": 0,
  "metadata": {
    "colab": {
      "provenance": [],
      "authorship_tag": "ABX9TyMbobjThhaquKx0Le7CstyC",
      "include_colab_link": true
    },
    "kernelspec": {
      "name": "python3",
      "display_name": "Python 3"
    },
    "language_info": {
      "name": "python"
    }
  },
  "cells": [
    {
      "cell_type": "markdown",
      "metadata": {
        "id": "view-in-github",
        "colab_type": "text"
      },
      "source": [
        "<a href=\"https://colab.research.google.com/github/cyberneel/TerminalGamesColab/blob/main/TerminalGames.ipynb\" target=\"_parent\"><img src=\"https://colab.research.google.com/assets/colab-badge.svg\" alt=\"Open In Colab\"/></a>"
      ]
    },
    {
      "cell_type": "markdown",
      "source": [
        "# Tic-Tac-Toe"
      ],
      "metadata": {
        "id": "AaN29ioEIsq-"
      }
    },
    {
      "cell_type": "code",
      "source": [
        "# Game Settings\n",
        "\n",
        "playerOneChar = 'X'\n",
        "playerTwoChar = 'O'"
      ],
      "metadata": {
        "id": "FL539SAfeaq9"
      },
      "execution_count": null,
      "outputs": []
    },
    {
      "cell_type": "code",
      "source": [
        "# Store game data in array\n",
        "\n",
        "gameBoardData = array_2d = [[0 for _ in range(3)] for _ in range(3)]\n",
        "\n",
        "print(gameBoardData)\n"
      ],
      "metadata": {
        "colab": {
          "base_uri": "https://localhost:8080/"
        },
        "id": "Uwn0HOPBJSGW",
        "outputId": "dd127008-ecd2-4ba2-f0c0-cd899bef8eec"
      },
      "execution_count": null,
      "outputs": [
        {
          "output_type": "stream",
          "name": "stdout",
          "text": [
            "[[0, 0, 0], [0, 0, 0], [0, 0, 0]]\n"
          ]
        }
      ]
    },
    {
      "cell_type": "code",
      "execution_count": null,
      "metadata": {
        "id": "D6lAjfa-G5JV"
      },
      "outputs": [],
      "source": [
        "# define display board function\n",
        "\n",
        "def DisplayBoard():\n",
        "  loc = 1\n",
        "  print(\"-------------\")\n",
        "  for row in gameBoardData:\n",
        "    rowData = \"| \"\n",
        "    for char in row:\n",
        "      rowData += (str(char) if (char != 0) else str(loc)) + \" | \"\n",
        "      loc = loc + 1\n",
        "    rowData += \"\\n\"\n",
        "    print(rowData)\n",
        "    print(\"-------------\")\n",
        "\n",
        "DisplayBoard()"
      ]
    },
    {
      "cell_type": "code",
      "source": [
        "# define a turn function for player input\n",
        "\n",
        "def PlayerTurn(playerChar):\n",
        "  placement = input(\"player \" + playerChar + \" select where to place your move: \")\n",
        "  row = 0\n",
        "  if (int(placement) > 6):\n",
        "    row = 2\n",
        "  elif (int(placement) > 3):\n",
        "    row = 1\n",
        "\n",
        "  # Check if alread filled spot\n",
        "  while ((gameBoardData[row][(int(placement) % 3) - 1] == playerOneChar) or (gameBoardData[row][(int(placement) % 3) - 1] == playerTwoChar)):\n",
        "    placement = input(\"Spot alreadt TAKEN! player \" + playerChar + \" select where to place your move: \")\n",
        "    row = 0\n",
        "    if (int(placement) > 6):\n",
        "      row = 2\n",
        "    elif (int(placement) > 3):\n",
        "      row = 1\n",
        "\n",
        "  gameBoardData[row][(int(placement) % 3) - 1] = playerChar\n"
      ],
      "metadata": {
        "id": "6ye4BQgwLVUp"
      },
      "execution_count": null,
      "outputs": []
    },
    {
      "cell_type": "code",
      "source": [
        "# Check for winner function\n",
        "\n",
        "def CheckWinner():\n",
        "  if (gameBoardData[0][0] == gameBoardData[0][1] and gameBoardData[0][1] == gameBoardData[0][2]):\n",
        "    return gameBoardData[0][0]\n",
        "  if (gameBoardData[1][0] == gameBoardData[1][1] and gameBoardData[1][1] == gameBoardData[1][2]):\n",
        "    return gameBoardData[1][0]\n",
        "  if (gameBoardData[2][0] == gameBoardData[2][1] and gameBoardData[2][1] == gameBoardData[2][2]):\n",
        "    return gameBoardData[2][0]\n",
        "  if (gameBoardData[0][0] == gameBoardData[1][0] and gameBoardData[1][0] == gameBoardData[2][0]):\n",
        "    return gameBoardData[0][0]\n",
        "  if (gameBoardData[0][1] == gameBoardData[1][1] and gameBoardData[1][1] == gameBoardData[2][1]):\n",
        "    return gameBoardData[0][1]\n",
        "  if (gameBoardData[0][2] == gameBoardData[1][2] and gameBoardData[1][2] == gameBoardData[2][2]):\n",
        "    return gameBoardData[0][2]\n",
        "  if (gameBoardData[0][0] == gameBoardData[1][1] and gameBoardData[1][1] == gameBoardData[2][2]):\n",
        "    return gameBoardData[0][0]\n",
        "  if (gameBoardData[0][2] == gameBoardData[1][1] and gameBoardData[1][1] == gameBoardData[2][0]):\n",
        "    return gameBoardData[0][2]\n",
        "  return 'n'\n",
        "\n"
      ],
      "metadata": {
        "id": "OGSRlBkG4HPm"
      },
      "execution_count": null,
      "outputs": []
    },
    {
      "cell_type": "markdown",
      "source": [
        "# The main game happens here"
      ],
      "metadata": {
        "id": "MKFPCjZGPUJW"
      }
    },
    {
      "cell_type": "code",
      "source": [
        "# Main game loop\n",
        "\n",
        "def RunTicTacToe():\n",
        "  turn = 1\n",
        "  winner = 'n'\n",
        "  DisplayBoard()\n",
        "  while (winner == 'n'):\n",
        "    # do turns\n",
        "    if (turn % 2 != 0):\n",
        "      PlayerTurn(playerOneChar)\n",
        "    else:\n",
        "      PlayerTurn(playerTwoChar)\n",
        "    turn = turn + 1\n",
        "    DisplayBoard()\n",
        "    # Check if winner\n",
        "    winner = CheckWinner()\n",
        "    # print winner\n",
        "    if (winner != 'n'):\n",
        "      print(\"Player \" + str(winner) + \" won the game!!!!\")\n",
        "      return\n",
        "\n",
        "RunTicTacToe()"
      ],
      "metadata": {
        "id": "ndinR44mekgR"
      },
      "execution_count": null,
      "outputs": []
    },
    {
      "cell_type": "markdown",
      "source": [
        "# Dot Game\n",
        "\n",
        "I am not quite sure of the origins of this game, but my friends and I used to play this game when we were bored lol.\n",
        "\n",
        "## Rules:\n",
        "\n",
        "This is a 2 player game. On you turn you can circle 1 or 2 horizontally/vertically adjacent dots on a 3 X 3 grid. If your turn leaves no uncircled dots, you lose."
      ],
      "metadata": {
        "id": "Ds9DdH1zAbuz"
      }
    },
    {
      "cell_type": "code",
      "source": [],
      "metadata": {
        "id": "tEq6RddIAbWR"
      },
      "execution_count": null,
      "outputs": []
    }
  ]
}